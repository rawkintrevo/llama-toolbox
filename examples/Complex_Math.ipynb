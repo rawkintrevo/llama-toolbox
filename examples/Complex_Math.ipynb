{
  "cells": [
    {
      "cell_type": "code",
      "execution_count": 1,
      "metadata": {
        "colab": {
          "base_uri": "https://localhost:8080/"
        },
        "id": "ujvVmMa0btJb",
        "outputId": "37363b9d-c498-4fbc-8bae-3cd36433aa75"
      },
      "outputs": [
        {
          "output_type": "stream",
          "name": "stdout",
          "text": [
            "  Installing build dependencies ... \u001b[?25l\u001b[?25hdone\n",
            "  Getting requirements to build wheel ... \u001b[?25l\u001b[?25hdone\n",
            "  Preparing metadata (pyproject.toml) ... \u001b[?25l\u001b[?25hdone\n",
            "\u001b[2K     \u001b[90m━━━━━━━━━━━━━━━━━━━━━━━━━━━━━━━━━━━━━━━━\u001b[0m \u001b[32m57.7/57.7 kB\u001b[0m \u001b[31m3.4 MB/s\u001b[0m eta \u001b[36m0:00:00\u001b[0m\n",
            "\u001b[2K   \u001b[90m━━━━━━━━━━━━━━━━━━━━━━━━━━━━━━━━━━━━━━━━\u001b[0m \u001b[32m389.6/389.6 kB\u001b[0m \u001b[31m13.4 MB/s\u001b[0m eta \u001b[36m0:00:00\u001b[0m\n",
            "\u001b[2K   \u001b[90m━━━━━━━━━━━━━━━━━━━━━━━━━━━━━━━━━━━━━━━━\u001b[0m \u001b[32m76.4/76.4 kB\u001b[0m \u001b[31m5.2 MB/s\u001b[0m eta \u001b[36m0:00:00\u001b[0m\n",
            "\u001b[2K   \u001b[90m━━━━━━━━━━━━━━━━━━━━━━━━━━━━━━━━━━━━━━━━\u001b[0m \u001b[32m78.6/78.6 kB\u001b[0m \u001b[31m5.1 MB/s\u001b[0m eta \u001b[36m0:00:00\u001b[0m\n",
            "\u001b[2K   \u001b[90m━━━━━━━━━━━━━━━━━━━━━━━━━━━━━━━━━━━━━━━━\u001b[0m \u001b[32m96.0/96.0 kB\u001b[0m \u001b[31m5.9 MB/s\u001b[0m eta \u001b[36m0:00:00\u001b[0m\n",
            "\u001b[2K   \u001b[90m━━━━━━━━━━━━━━━━━━━━━━━━━━━━━━━━━━━━━━━━\u001b[0m \u001b[32m207.6/207.6 kB\u001b[0m \u001b[31m14.9 MB/s\u001b[0m eta \u001b[36m0:00:00\u001b[0m\n",
            "\u001b[2K   \u001b[90m━━━━━━━━━━━━━━━━━━━━━━━━━━━━━━━━━━━━━━━━\u001b[0m \u001b[32m70.4/70.4 kB\u001b[0m \u001b[31m4.7 MB/s\u001b[0m eta \u001b[36m0:00:00\u001b[0m\n",
            "\u001b[2K   \u001b[90m━━━━━━━━━━━━━━━━━━━━━━━━━━━━━━━━━━━━━━━━\u001b[0m \u001b[32m345.6/345.6 kB\u001b[0m \u001b[31m21.1 MB/s\u001b[0m eta \u001b[36m0:00:00\u001b[0m\n",
            "\u001b[2K   \u001b[90m━━━━━━━━━━━━━━━━━━━━━━━━━━━━━━━━━━━━━━━━\u001b[0m \u001b[32m431.4/431.4 kB\u001b[0m \u001b[31m19.7 MB/s\u001b[0m eta \u001b[36m0:00:00\u001b[0m\n",
            "\u001b[2K   \u001b[90m━━━━━━━━━━━━━━━━━━━━━━━━━━━━━━━━━━━━━━━━\u001b[0m \u001b[32m2.0/2.0 MB\u001b[0m \u001b[31m50.3 MB/s\u001b[0m eta \u001b[36m0:00:00\u001b[0m\n",
            "\u001b[2K   \u001b[90m━━━━━━━━━━━━━━━━━━━━━━━━━━━━━━━━━━━━━━━━\u001b[0m \u001b[32m78.5/78.5 kB\u001b[0m \u001b[31m5.8 MB/s\u001b[0m eta \u001b[36m0:00:00\u001b[0m\n",
            "\u001b[2K   \u001b[90m━━━━━━━━━━━━━━━━━━━━━━━━━━━━━━━━━━━━━━━━\u001b[0m \u001b[32m164.9/164.9 kB\u001b[0m \u001b[31m9.0 MB/s\u001b[0m eta \u001b[36m0:00:00\u001b[0m\n",
            "\u001b[2K   \u001b[90m━━━━━━━━━━━━━━━━━━━━━━━━━━━━━━━━━━━━━━━━\u001b[0m \u001b[32m62.8/62.8 kB\u001b[0m \u001b[31m1.8 MB/s\u001b[0m eta \u001b[36m0:00:00\u001b[0m\n",
            "\u001b[2K   \u001b[90m━━━━━━━━━━━━━━━━━━━━━━━━━━━━━━━━━━━━━━━━\u001b[0m \u001b[32m58.3/58.3 kB\u001b[0m \u001b[31m3.8 MB/s\u001b[0m eta \u001b[36m0:00:00\u001b[0m\n",
            "\u001b[?25h  Building wheel for llama_toolbox (pyproject.toml) ... \u001b[?25l\u001b[?25hdone\n",
            "\u001b[31mERROR: pip's dependency resolver does not currently take into account all the packages that are installed. This behaviour is the source of the following dependency conflicts.\n",
            "jupyter-server 1.24.0 requires anyio<4,>=3.1.0, but you have anyio 4.8.0 which is incompatible.\u001b[0m\u001b[31m\n",
            "\u001b[0m"
          ]
        }
      ],
      "source": [
        "!pip install openai==1.55.3 httpx==0.27.2 --force-reinstall git+https://github.com/rawkintrevo/llama-toolbox.git@compositions --quiet"
      ]
    },
    {
      "cell_type": "code",
      "source": [
        "from openai import OpenAI\n",
        "from llama_toolbox.orchestration import FunctionOrchestrator\n",
        "from google.colab import userdata\n",
        "\n",
        "from llama_toolbox.basic_math.exponents import Exponents\n",
        "from llama_toolbox.basic_math.multiplication import Multiplication\n",
        "from llama_toolbox.basic_math.division import Division\n",
        "from llama_toolbox.basic_math.addition import Addition\n",
        "from llama_toolbox.basic_math.subtraction import Subtraction\n",
        "\n",
        "from llama_toolbox.reasoning.sequential_cot import SequentialCoT\n",
        "\n",
        "CUSTOM_DEPTH_CHART = [\n",
        "    {\n",
        "        \"model_name\": \"meta-llama/Meta-Llama-3.1-8B-Instruct\",\n",
        "        \"base_url\": \"https://api.deepinfra.com/v1/openai\",\n",
        "        \"api_key\": userdata.get('deepinfra'),\n",
        "        \"temperature\": 0.3\n",
        "    },\n",
        "    {\n",
        "        \"model_name\": \"meta-llama/Meta-Llama-3.1-8B-Instruct\",\n",
        "        \"base_url\": \"https://api.deepinfra.com/v1/openai\",\n",
        "        \"api_key\": userdata.get('deepinfra'),\n",
        "        \"temperature\": 0.5\n",
        "    }\n",
        "]\n",
        "\n",
        "# 2. Configure tool parameters including depth charts\n",
        "TOOL_CONFIGS = {\n",
        "    \"sequential_chain_of_thought\": {\n",
        "        \"depth_chart\": CUSTOM_DEPTH_CHART,\n",
        "    }\n",
        "}\n",
        "\n",
        "# Debug statement to confirm registration\n",
        "from llama_toolbox.config import FunctionRegistry\n",
        "print(\"Registered tools:\", FunctionRegistry.get_tools())\n",
        "\n",
        "# Client configured with pre-loaded API keys\n",
        "llm_client =  OpenAI(\n",
        "    api_key=userdata.get('deepinfra'),\n",
        "    base_url=\"https://api.deepinfra.com/v1/openai\",\n",
        ")\n",
        "\n",
        "\n",
        "# 3. Create orchestrator with custom configurations\n",
        "orchestrator = FunctionOrchestrator(\n",
        "    llm_client=llm_client,\n",
        "    tool_configs=TOOL_CONFIGS\n",
        ")\n",
        "\n",
        "# Complex math workflow triggered by natural language\n",
        "result = orchestrator.execute_workflow(\n",
        "    user_query = \"Calculate ((2^3 * 5) + 10) / (4 - 1) using step-by-step function calls, show your work at the end\",\n",
        "    model_name = \"meta-llama/Llama-3.3-70B-Instruct-Turbo\"\n",
        ")\n"
      ],
      "metadata": {
        "colab": {
          "base_uri": "https://localhost:8080/"
        },
        "id": "Ixs27pNAyvZ9",
        "outputId": "be036632-4043-4c21-b24b-4f5ebb4acbd3"
      },
      "execution_count": 6,
      "outputs": [
        {
          "output_type": "stream",
          "name": "stdout",
          "text": [
            "Registered tools: [{'type': 'function', 'function': {'name': 'exponents', 'description': 'Calculate the result of a number raised to a power', 'parameters': {'type': 'object', 'properties': {'base': {'type': 'number', 'description': 'The base number'}, 'power': {'type': 'number', 'description': 'The power to which the base is raised'}}, 'required': ['base', 'power']}}}, {'type': 'function', 'function': {'name': 'multiplication', 'description': 'Calculate the product of two numbers', 'parameters': {'type': 'object', 'properties': {'num1': {'type': 'number', 'description': 'The first number'}, 'num2': {'type': 'number', 'description': 'The second number'}}, 'required': ['num1', 'num2']}}}, {'type': 'function', 'function': {'name': 'division', 'description': 'Calculate the quotient of two numbers', 'parameters': {'type': 'object', 'properties': {'num1': {'type': 'number', 'description': 'The dividend'}, 'num2': {'type': 'number', 'description': 'The divisor'}}, 'required': ['num1', 'num2']}}}, {'type': 'function', 'function': {'name': 'addition', 'description': 'Calculate the sum of two numbers', 'parameters': {'type': 'object', 'properties': {'num1': {'type': 'number', 'description': 'The first number'}, 'num2': {'type': 'number', 'description': 'The second number'}}, 'required': ['num1', 'num2']}}}, {'type': 'function', 'function': {'name': 'subtraction', 'description': 'Calculate the difference between two numbers', 'parameters': {'type': 'object', 'properties': {'num1': {'type': 'number', 'description': 'The minuend'}, 'num2': {'type': 'number', 'description': 'The subtrahend'}}, 'required': ['num1', 'num2']}}}, {'type': 'function', 'function': {'name': 'sequential_cot', 'description': 'Generate a series of steps required to solve a problem using Chain-of-Thought reasoning.', 'parameters': {'type': 'object', 'properties': {'prompt': {'type': 'string', 'description': 'The prompt to generate steps for.'}, 'steps': {'type': 'number', 'description': 'How many steps to take. (Default 3)'}}, 'required': ['prompt', 'steps']}}}]\n",
            "Available functions in orchestrator: exponents, multiplication, division, addition, subtraction, sequential_cot\n",
            "Calling exponents, with args ({'base': 2.0, 'power': 3.0})\n",
            "Calling addition, with args ({'num1': 40.0, 'num2': 10.0})\n",
            "Calling subtraction, with args ({'num1': 4.0, 'num2': 1.0})\n",
            "Calling division, with args ({'num1': 50.0, 'num2': 3.0})\n"
          ]
        }
      ]
    },
    {
      "cell_type": "code",
      "source": [
        "print(result[\"final_answer\"])"
      ],
      "metadata": {
        "id": "3e8G-OE_XNri",
        "colab": {
          "base_uri": "https://localhost:8080/"
        },
        "outputId": "e2bb5bb2-206f-4ecf-f3d1-acbb313991a1"
      },
      "execution_count": 5,
      "outputs": [
        {
          "output_type": "stream",
          "name": "stdout",
          "text": [
            "The final result of the calculation ((2^3 * 5) + 10) / (4 - 1) is 16.666666666666668.\n"
          ]
        }
      ]
    }
  ],
  "metadata": {
    "colab": {
      "provenance": []
    },
    "kernelspec": {
      "display_name": "Python 3",
      "name": "python3"
    },
    "language_info": {
      "name": "python"
    }
  },
  "nbformat": 4,
  "nbformat_minor": 0
}