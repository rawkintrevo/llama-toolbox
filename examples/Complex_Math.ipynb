{
  "cells": [
    {
      "cell_type": "code",
      "execution_count": 1,
      "metadata": {
        "colab": {
          "base_uri": "https://localhost:8080/"
        },
        "id": "ujvVmMa0btJb",
        "outputId": "1b39b878-5871-462d-e908-cba76a728a99"
      },
      "outputs": [
        {
          "output_type": "stream",
          "name": "stdout",
          "text": [
            "  Installing build dependencies ... \u001b[?25l\u001b[?25hdone\n",
            "  Getting requirements to build wheel ... \u001b[?25l\u001b[?25hdone\n",
            "  Preparing metadata (pyproject.toml) ... \u001b[?25l\u001b[?25hdone\n",
            "\u001b[2K     \u001b[90m━━━━━━━━━━━━━━━━━━━━━━━━━━━━━━━━━━━━━━━━\u001b[0m \u001b[32m57.7/57.7 kB\u001b[0m \u001b[31m3.1 MB/s\u001b[0m eta \u001b[36m0:00:00\u001b[0m\n",
            "\u001b[2K   \u001b[90m━━━━━━━━━━━━━━━━━━━━━━━━━━━━━━━━━━━━━━━━\u001b[0m \u001b[32m389.6/389.6 kB\u001b[0m \u001b[31m11.6 MB/s\u001b[0m eta \u001b[36m0:00:00\u001b[0m\n",
            "\u001b[2K   \u001b[90m━━━━━━━━━━━━━━━━━━━━━━━━━━━━━━━━━━━━━━━━\u001b[0m \u001b[32m76.4/76.4 kB\u001b[0m \u001b[31m4.2 MB/s\u001b[0m eta \u001b[36m0:00:00\u001b[0m\n",
            "\u001b[2K   \u001b[90m━━━━━━━━━━━━━━━━━━━━━━━━━━━━━━━━━━━━━━━━\u001b[0m \u001b[32m78.6/78.6 kB\u001b[0m \u001b[31m4.5 MB/s\u001b[0m eta \u001b[36m0:00:00\u001b[0m\n",
            "\u001b[2K   \u001b[90m━━━━━━━━━━━━━━━━━━━━━━━━━━━━━━━━━━━━━━━━\u001b[0m \u001b[32m96.0/96.0 kB\u001b[0m \u001b[31m5.8 MB/s\u001b[0m eta \u001b[36m0:00:00\u001b[0m\n",
            "\u001b[2K   \u001b[90m━━━━━━━━━━━━━━━━━━━━━━━━━━━━━━━━━━━━━━━━\u001b[0m \u001b[32m207.6/207.6 kB\u001b[0m \u001b[31m11.4 MB/s\u001b[0m eta \u001b[36m0:00:00\u001b[0m\n",
            "\u001b[2K   \u001b[90m━━━━━━━━━━━━━━━━━━━━━━━━━━━━━━━━━━━━━━━━\u001b[0m \u001b[32m70.4/70.4 kB\u001b[0m \u001b[31m4.5 MB/s\u001b[0m eta \u001b[36m0:00:00\u001b[0m\n",
            "\u001b[2K   \u001b[90m━━━━━━━━━━━━━━━━━━━━━━━━━━━━━━━━━━━━━━━━\u001b[0m \u001b[32m345.6/345.6 kB\u001b[0m \u001b[31m19.4 MB/s\u001b[0m eta \u001b[36m0:00:00\u001b[0m\n",
            "\u001b[2K   \u001b[90m━━━━━━━━━━━━━━━━━━━━━━━━━━━━━━━━━━━━━━━━\u001b[0m \u001b[32m431.7/431.7 kB\u001b[0m \u001b[31m22.3 MB/s\u001b[0m eta \u001b[36m0:00:00\u001b[0m\n",
            "\u001b[2K   \u001b[90m━━━━━━━━━━━━━━━━━━━━━━━━━━━━━━━━━━━━━━━━\u001b[0m \u001b[32m2.0/2.0 MB\u001b[0m \u001b[31m47.6 MB/s\u001b[0m eta \u001b[36m0:00:00\u001b[0m\n",
            "\u001b[2K   \u001b[90m━━━━━━━━━━━━━━━━━━━━━━━━━━━━━━━━━━━━━━━━\u001b[0m \u001b[32m78.5/78.5 kB\u001b[0m \u001b[31m4.4 MB/s\u001b[0m eta \u001b[36m0:00:00\u001b[0m\n",
            "\u001b[2K   \u001b[90m━━━━━━━━━━━━━━━━━━━━━━━━━━━━━━━━━━━━━━━━\u001b[0m \u001b[32m164.9/164.9 kB\u001b[0m \u001b[31m9.6 MB/s\u001b[0m eta \u001b[36m0:00:00\u001b[0m\n",
            "\u001b[2K   \u001b[90m━━━━━━━━━━━━━━━━━━━━━━━━━━━━━━━━━━━━━━━━\u001b[0m \u001b[32m62.8/62.8 kB\u001b[0m \u001b[31m3.7 MB/s\u001b[0m eta \u001b[36m0:00:00\u001b[0m\n",
            "\u001b[2K   \u001b[90m━━━━━━━━━━━━━━━━━━━━━━━━━━━━━━━━━━━━━━━━\u001b[0m \u001b[32m58.3/58.3 kB\u001b[0m \u001b[31m3.0 MB/s\u001b[0m eta \u001b[36m0:00:00\u001b[0m\n",
            "\u001b[?25h  Building wheel for llama_toolbox (pyproject.toml) ... \u001b[?25l\u001b[?25hdone\n",
            "\u001b[31mERROR: pip's dependency resolver does not currently take into account all the packages that are installed. This behaviour is the source of the following dependency conflicts.\n",
            "jupyter-server 1.24.0 requires anyio<4,>=3.1.0, but you have anyio 4.8.0 which is incompatible.\u001b[0m\u001b[31m\n",
            "\u001b[0m"
          ]
        }
      ],
      "source": [
        "!pip install openai==1.55.3 httpx==0.27.2 --force-reinstall git+https://github.com/rawkintrevo/llama-toolbox.git@compositions --quiet"
      ]
    },
    {
      "cell_type": "code",
      "source": [
        "from openai import OpenAI\n",
        "from llama_toolbox.orchestration import FunctionOrchestrator\n",
        "from google.colab import userdata\n",
        "\n",
        "from llama_toolbox.basic_math.exponents import Exponents\n",
        "from llama_toolbox.basic_math.multiplication import Multiplication\n",
        "from llama_toolbox.basic_math.division import Division\n",
        "from llama_toolbox.basic_math.addition import Addition\n",
        "from llama_toolbox.basic_math.subtraction import Subtraction\n",
        "from llama_toolbox.reasoning.sequential_cot import SequentialCoT\n",
        "\n",
        "import logging\n",
        "logging.getLogger('llama_toolbox').setLevel(logging.DEBUG)\n",
        "\n",
        "CUSTOM_DEPTH_CHART = [\n",
        "    {\n",
        "        \"model_name\": \"meta-llama/Meta-Llama-3.1-8B-Instruct\",\n",
        "        \"base_url\": \"https://api.deepinfra.com/v1/openai\",\n",
        "        \"api_key\": userdata.get('deepinfra'),\n",
        "        \"temperature\": 0.3\n",
        "    },\n",
        "    {\n",
        "        \"model_name\": \"meta-llama/Meta-Llama-3.1-8B-Instruct\",\n",
        "        \"base_url\": \"https://api.deepinfra.com/v1/openai\",\n",
        "        \"api_key\": userdata.get('deepinfra'),\n",
        "        \"temperature\": 0.5\n",
        "    }\n",
        "]\n",
        "\n",
        "# 2. Configure tool parameters including depth charts\n",
        "TOOL_CONFIGS = {\n",
        "    \"sequential_chain_of_thought\": {\n",
        "        \"depth_chart\": CUSTOM_DEPTH_CHART,\n",
        "    }\n",
        "}\n",
        "\n",
        "# Debug statement to confirm registration\n",
        "from llama_toolbox.config import FunctionRegistry\n",
        "print(\"Registered tools:\", FunctionRegistry.get_tools())\n",
        "\n",
        "# Client configured with pre-loaded API keys\n",
        "llm_client =  OpenAI(\n",
        "    api_key=userdata.get('deepinfra'),\n",
        "    base_url=\"https://api.deepinfra.com/v1/openai\",\n",
        ")\n",
        "\n",
        "\n",
        "# 3. Create orchestrator with custom configurations\n",
        "orchestrator = FunctionOrchestrator(\n",
        "    llm_client=llm_client,\n",
        "    tool_configs=TOOL_CONFIGS\n",
        ")\n",
        "\n",
        "# Complex math workflow triggered by natural language\n",
        "result = orchestrator.execute_workflow(\n",
        "    user_query = \"Calculate ((2^3 * 5) + 10) / (4 - 1) using step-by-step function calls.\",\n",
        "    model_name = \"meta-llama/Meta-Llama-3.1-8B-Instruct\"\n",
        ")\n"
      ],
      "metadata": {
        "colab": {
          "base_uri": "https://localhost:8080/"
        },
        "id": "Ixs27pNAyvZ9",
        "outputId": "794cd218-b2d1-4bbb-a2ab-f8bceb031121"
      },
      "execution_count": 2,
      "outputs": [
        {
          "output_type": "stream",
          "name": "stderr",
          "text": [
            "2025-01-24 16:33:13,019 - llama_toolbox.basic_math.exponents.Exponents - DEBUG - Initialized Exponents tool\n",
            "2025-01-24 16:33:13,026 - llama_toolbox.basic_math.multiplication.Multiplication - DEBUG - Initialized Multiplication tool\n",
            "2025-01-24 16:33:13,028 - llama_toolbox.basic_math.division.Division - DEBUG - Initialized Division tool\n",
            "2025-01-24 16:33:13,029 - llama_toolbox.basic_math.addition.Addition - DEBUG - Initialized Addition tool\n",
            "2025-01-24 16:33:13,031 - llama_toolbox.basic_math.subtraction.Subtraction - DEBUG - Initialized Subtraction tool\n",
            "2025-01-24 16:33:13,040 - llama_toolbox.reasoning.sequential_cot.SequentialCoT - DEBUG - Initialized SequentialCoT tool\n",
            "2025-01-24 16:33:13,042 - llama_toolbox.reasoning.hierarchical_cot.HierarchicalCoT - DEBUG - Initialized HierarchicalCoT tool\n",
            "2025-01-24 16:33:13,054 - llama_toolbox.reasoning.tree_of_thought.TreeOfThought - DEBUG - Initialized TreeOfThought tool\n"
          ]
        },
        {
          "output_type": "stream",
          "name": "stdout",
          "text": [
            "Registered tools: [{'type': 'function', 'function': {'name': 'exponents', 'description': 'Calculate the result of a number raised to a power', 'parameters': {'type': 'object', 'properties': {'base': {'type': 'number', 'description': 'The base number'}, 'power': {'type': 'number', 'description': 'The power to which the base is raised'}}, 'required': ['base', 'power']}}}, {'type': 'function', 'function': {'name': 'multiplication', 'description': 'Calculate the product of two numbers', 'parameters': {'type': 'object', 'properties': {'num1': {'type': 'number', 'description': 'The first number'}, 'num2': {'type': 'number', 'description': 'The second number'}}, 'required': ['num1', 'num2']}}}, {'type': 'function', 'function': {'name': 'division', 'description': 'Calculate the quotient of two numbers', 'parameters': {'type': 'object', 'properties': {'num1': {'type': 'number', 'description': 'The dividend'}, 'num2': {'type': 'number', 'description': 'The divisor'}}, 'required': ['num1', 'num2']}}}, {'type': 'function', 'function': {'name': 'addition', 'description': 'Calculate the sum of two numbers', 'parameters': {'type': 'object', 'properties': {'num1': {'type': 'number', 'description': 'The first number'}, 'num2': {'type': 'number', 'description': 'The second number'}}, 'required': ['num1', 'num2']}}}, {'type': 'function', 'function': {'name': 'subtraction', 'description': 'Calculate the difference between two numbers', 'parameters': {'type': 'object', 'properties': {'num1': {'type': 'number', 'description': 'The minuend'}, 'num2': {'type': 'number', 'description': 'The subtrahend'}}, 'required': ['num1', 'num2']}}}, {'type': 'function', 'function': {'name': 'sequential_cot', 'description': 'Generate a series of steps required to solve a problem using Chain-of-Thought reasoning.', 'parameters': {'type': 'object', 'properties': {'prompt': {'type': 'string', 'description': 'The prompt to generate steps for.'}, 'steps': {'type': 'number', 'description': 'How many steps to take. (Default 3)'}}, 'required': ['prompt', 'steps']}}}, {'type': 'function', 'function': {'name': 'hierarchical_cot', 'description': 'Hierarchical Chain-of-Thought reasoning with outline generation and section expansion', 'parameters': {'type': 'object', 'properties': {'prompt': {'type': 'string', 'description': 'The problem prompt to process'}, 'depth': {'type': 'integer', 'description': 'Depth of hierarchy (default: 2)', 'default': 2}}, 'required': ['prompt']}}}, {'type': 'function', 'function': {'name': 'tree_of_thought', 'description': 'Tree-of-Thought reasoning with parallel exploration of multiple paths', 'parameters': {'type': 'object', 'properties': {'prompt': {'type': 'string', 'description': 'The problem prompt to process'}, 'branches': {'type': 'integer', 'description': 'Number of parallel branches (default: 3)', 'default': 3}, 'evaluation_depth': {'type': 'integer', 'description': 'Depth of evaluation steps (default: 2)', 'default': 2}}, 'required': ['prompt']}}}]\n"
          ]
        },
        {
          "output_type": "stream",
          "name": "stderr",
          "text": [
            "2025-01-24 16:33:13,678 - llama_toolbox.basic_math.exponents.Exponents - DEBUG - Initialized Exponents tool\n",
            "2025-01-24 16:33:13,689 - llama_toolbox.basic_math.multiplication.Multiplication - DEBUG - Initialized Multiplication tool\n",
            "2025-01-24 16:33:13,694 - llama_toolbox.basic_math.division.Division - DEBUG - Initialized Division tool\n",
            "2025-01-24 16:33:13,696 - llama_toolbox.basic_math.addition.Addition - DEBUG - Initialized Addition tool\n",
            "2025-01-24 16:33:13,698 - llama_toolbox.basic_math.subtraction.Subtraction - DEBUG - Initialized Subtraction tool\n",
            "2025-01-24 16:33:13,700 - llama_toolbox.reasoning.sequential_cot.SequentialCoT - DEBUG - Initialized SequentialCoT tool\n",
            "2025-01-24 16:33:13,707 - llama_toolbox.reasoning.hierarchical_cot.HierarchicalCoT - DEBUG - Initialized HierarchicalCoT tool\n",
            "2025-01-24 16:33:13,712 - llama_toolbox.reasoning.tree_of_thought.TreeOfThought - DEBUG - Initialized TreeOfThought tool\n",
            "2025-01-24 16:33:13,723 - llama_toolbox.orchestration.FunctionOrchestrator - DEBUG - Available functions in orchestrator: exponents, multiplication, division, addition, subtraction, sequential_cot, hierarchical_cot, tree_of_thought\n",
            "2025-01-24 16:33:13,726 - llama_toolbox.orchestration.FunctionOrchestrator - DEBUG - Starting workflow execution with query: Calculate ((2^3 * 5) + 10) / (4 - 1) using step-by-step function calls.\n",
            "2025-01-24 16:33:16,222 - llama_toolbox.basic_math.exponents.Exponents - DEBUG - Initialized Exponents tool\n",
            "2025-01-24 16:33:16,224 - llama_toolbox.basic_math.exponents - DEBUG - Raising 2.0 to the 3.0th power\n",
            "2025-01-24 16:33:16,231 - llama_toolbox.basic_math.exponents.Exponents - DEBUG - Initialized Exponents tool\n",
            "2025-01-24 16:33:16,241 - llama_toolbox.basic_math.exponents - DEBUG - Raising 5.0 to the 1.0th power\n",
            "2025-01-24 16:33:16,249 - llama_toolbox.basic_math.exponents.Exponents - DEBUG - Initialized Exponents tool\n",
            "2025-01-24 16:33:16,250 - llama_toolbox.basic_math.exponents - DEBUG - Raising 2.0 to the 1.0th power\n",
            "2025-01-24 16:33:16,252 - llama_toolbox.basic_math.multiplication.Multiplication - DEBUG - Initialized Multiplication tool\n",
            "2025-01-24 16:33:16,266 - llama_toolbox.basic_math.multiplication - DEBUG - Multiplying 8.0 by 5.0\n",
            "2025-01-24 16:33:16,267 - llama_toolbox.basic_math.addition.Addition - DEBUG - Initialized Addition tool\n",
            "2025-01-24 16:33:16,268 - llama_toolbox.basic_math.addition - DEBUG - Adding 40.0 and 10.0\n",
            "2025-01-24 16:33:16,276 - llama_toolbox.basic_math.exponents.Exponents - DEBUG - Initialized Exponents tool\n",
            "2025-01-24 16:33:16,277 - llama_toolbox.basic_math.exponents - DEBUG - Raising 4.0 to the 1.0th power\n",
            "2025-01-24 16:33:16,282 - llama_toolbox.basic_math.subtraction.Subtraction - DEBUG - Initialized Subtraction tool\n",
            "2025-01-24 16:33:16,283 - llama_toolbox.basic_math.subtraction - DEBUG - Subtracting 1.0 from 4.0\n",
            "2025-01-24 16:33:16,291 - llama_toolbox.basic_math.division.Division - DEBUG - Initialized Division tool\n",
            "2025-01-24 16:33:16,292 - llama_toolbox.basic_math.division - DEBUG - Dividing 50.0 by 3.0\n"
          ]
        }
      ]
    },
    {
      "cell_type": "code",
      "source": [
        "print(result[\"final_answer\"]) # 8B Get's this right ~ 1/3 of the time..."
      ],
      "metadata": {
        "id": "3e8G-OE_XNri",
        "colab": {
          "base_uri": "https://localhost:8080/"
        },
        "outputId": "785e2fc3-139b-45de-c439-7c4ecf6b6a00"
      },
      "execution_count": 4,
      "outputs": [
        {
          "output_type": "stream",
          "name": "stdout",
          "text": [
            "Therefore, ((2^3 * 5) + 10) / (4 - 1) is equal to 16.67.\n"
          ]
        }
      ]
    }
  ],
  "metadata": {
    "colab": {
      "provenance": []
    },
    "kernelspec": {
      "display_name": "Python 3",
      "name": "python3"
    },
    "language_info": {
      "name": "python"
    }
  },
  "nbformat": 4,
  "nbformat_minor": 0
}