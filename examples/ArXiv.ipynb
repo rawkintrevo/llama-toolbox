{
  "nbformat": 4,
  "nbformat_minor": 0,
  "metadata": {
    "colab": {
      "provenance": []
    },
    "kernelspec": {
      "name": "python3",
      "display_name": "Python 3"
    },
    "language_info": {
      "name": "python"
    }
  },
  "cells": [
    {
      "cell_type": "code",
      "execution_count": 1,
      "metadata": {
        "colab": {
          "base_uri": "https://localhost:8080/"
        },
        "id": "ujvVmMa0btJb",
        "outputId": "dd0865c5-582d-41af-a084-25d6f1344aa1"
      },
      "outputs": [
        {
          "output_type": "stream",
          "name": "stdout",
          "text": [
            "  Installing build dependencies ... \u001b[?25l\u001b[?25hdone\n",
            "  Getting requirements to build wheel ... \u001b[?25l\u001b[?25hdone\n",
            "  Preparing metadata (pyproject.toml) ... \u001b[?25l\u001b[?25hdone\n",
            "\u001b[2K     \u001b[90m━━━━━━━━━━━━━━━━━━━━━━━━━━━━━━━━━━━━━━━━\u001b[0m \u001b[32m172.0/172.0 kB\u001b[0m \u001b[31m4.5 MB/s\u001b[0m eta \u001b[36m0:00:00\u001b[0m\n",
            "\u001b[2K     \u001b[90m━━━━━━━━━━━━━━━━━━━━━━━━━━━━━━━━━━━━━━━━\u001b[0m \u001b[32m57.7/57.7 kB\u001b[0m \u001b[31m3.3 MB/s\u001b[0m eta \u001b[36m0:00:00\u001b[0m\n",
            "\u001b[2K   \u001b[90m━━━━━━━━━━━━━━━━━━━━━━━━━━━━━━━━━━━━━━━━\u001b[0m \u001b[32m389.6/389.6 kB\u001b[0m \u001b[31m14.2 MB/s\u001b[0m eta \u001b[36m0:00:00\u001b[0m\n",
            "\u001b[2K   \u001b[90m━━━━━━━━━━━━━━━━━━━━━━━━━━━━━━━━━━━━━━━━\u001b[0m \u001b[32m76.4/76.4 kB\u001b[0m \u001b[31m4.5 MB/s\u001b[0m eta \u001b[36m0:00:00\u001b[0m\n",
            "\u001b[2K   \u001b[90m━━━━━━━━━━━━━━━━━━━━━━━━━━━━━━━━━━━━━━━━\u001b[0m \u001b[32m78.6/78.6 kB\u001b[0m \u001b[31m4.9 MB/s\u001b[0m eta \u001b[36m0:00:00\u001b[0m\n",
            "\u001b[2K   \u001b[90m━━━━━━━━━━━━━━━━━━━━━━━━━━━━━━━━━━━━━━━━\u001b[0m \u001b[32m93.1/93.1 kB\u001b[0m \u001b[31m5.3 MB/s\u001b[0m eta \u001b[36m0:00:00\u001b[0m\n",
            "\u001b[2K   \u001b[90m━━━━━━━━━━━━━━━━━━━━━━━━━━━━━━━━━━━━━━━━\u001b[0m \u001b[32m70.4/70.4 kB\u001b[0m \u001b[31m4.9 MB/s\u001b[0m eta \u001b[36m0:00:00\u001b[0m\n",
            "\u001b[2K   \u001b[90m━━━━━━━━━━━━━━━━━━━━━━━━━━━━━━━━━━━━━━━━\u001b[0m \u001b[32m345.0/345.0 kB\u001b[0m \u001b[31m18.4 MB/s\u001b[0m eta \u001b[36m0:00:00\u001b[0m\n",
            "\u001b[2K   \u001b[90m━━━━━━━━━━━━━━━━━━━━━━━━━━━━━━━━━━━━━━━━\u001b[0m \u001b[32m457.0/457.0 kB\u001b[0m \u001b[31m25.8 MB/s\u001b[0m eta \u001b[36m0:00:00\u001b[0m\n",
            "\u001b[2K   \u001b[90m━━━━━━━━━━━━━━━━━━━━━━━━━━━━━━━━━━━━━━━━\u001b[0m \u001b[32m2.1/2.1 MB\u001b[0m \u001b[31m48.1 MB/s\u001b[0m eta \u001b[36m0:00:00\u001b[0m\n",
            "\u001b[2K   \u001b[90m━━━━━━━━━━━━━━━━━━━━━━━━━━━━━━━━━━━━━━━━\u001b[0m \u001b[32m78.5/78.5 kB\u001b[0m \u001b[31m5.5 MB/s\u001b[0m eta \u001b[36m0:00:00\u001b[0m\n",
            "\u001b[2K   \u001b[90m━━━━━━━━━━━━━━━━━━━━━━━━━━━━━━━━━━━━━━━━\u001b[0m \u001b[32m167.3/167.3 kB\u001b[0m \u001b[31m12.3 MB/s\u001b[0m eta \u001b[36m0:00:00\u001b[0m\n",
            "\u001b[2K   \u001b[90m━━━━━━━━━━━━━━━━━━━━━━━━━━━━━━━━━━━━━━━━\u001b[0m \u001b[32m58.3/58.3 kB\u001b[0m \u001b[31m3.8 MB/s\u001b[0m eta \u001b[36m0:00:00\u001b[0m\n",
            "\u001b[?25h  Building wheel for llama_toolbox (pyproject.toml) ... \u001b[?25l\u001b[?25hdone\n",
            "\u001b[31mERROR: pip's dependency resolver does not currently take into account all the packages that are installed. This behaviour is the source of the following dependency conflicts.\n",
            "jupyter-server 1.24.0 requires anyio<4,>=3.1.0, but you have anyio 4.7.0 which is incompatible.\u001b[0m\u001b[31m\n",
            "\u001b[0m"
          ]
        }
      ],
      "source": [
        "!pip install openai==1.55.3 httpx==0.27.2 --force-reinstall git+https://github.com/rawkintrevo/llama-toolbox.git --quiet"
      ]
    },
    {
      "cell_type": "code",
      "source": [
        "from openai import OpenAI\n",
        "from google.colab import userdata\n",
        "import json\n",
        "# Create an OpenAI client with your deepinfra token and endpoint\n",
        "openai = OpenAI(\n",
        "    api_key=userdata.get('deepinfra'),\n",
        "    base_url=\"https://api.deepinfra.com/v1/openai\",\n",
        ")\n",
        "\n",
        "from llama_toolbox.arxiv import Search, GetArticle\n",
        "from llama_toolbox.basic_math import complex_response\n",
        "\n",
        "tool_list =  [F() for F in [Search, GetArticle]]\n",
        "tool_map = {f.name: f.fn for f in tool_list}\n",
        "tool_desc_list = [f.definition for f in tool_list]"
      ],
      "metadata": {
        "id": "JBUKOfaFcSlF"
      },
      "execution_count": 6,
      "outputs": []
    },
    {
      "cell_type": "code",
      "source": [
        "out = complex_response(prompt='Compose a scholarly article, as a literature review explaining quantum gravity research since 2022 in depth, compare and contract the finer points.',\n",
        "                       system=\"Think carefully about the problem presented, break it down into a series of steps before attempting to compute.\",\n",
        "                       tool_desc_list=tool_desc_list,\n",
        "                       openai_like_client=openai,\n",
        "                       model_name= \"meta-llama/Llama-3.3-70B-Instruct\",\n",
        "                       tool_map=tool_map)\n",
        "\n",
        "print(out['last_response'].choices[0].message.content)\n"
      ],
      "metadata": {
        "colab": {
          "base_uri": "https://localhost:8080/"
        },
        "id": "RACg4DbIbyNH",
        "outputId": "1d12885e-c7f5-4731-a1db-44cf54c0c99b"
      },
      "execution_count": 12,
      "outputs": [
        {
          "output_type": "stream",
          "name": "stdout",
          "text": [
            "Quantum gravity research has been a thriving field of study since the early 2000s, with significant advancements in recent years. This literature review aims to provide an in-depth analysis of the developments in quantum gravity research since 2022, highlighting the key findings, comparing and contrasting the finer points, and discussing the implications of these advancements.\n",
            "\n",
            "One of the primary areas of research in quantum gravity is the development of theories that merge quantum mechanics and general relativity. In 2022, a significant breakthrough was achieved with the introduction of the \"asymptotic safety\" theory, which proposes that gravity may be an emergent phenomenon that arises from the collective behavior of particles at the quantum level (1). This theory has been shown to be consistent with the principles of general relativity and has sparked a new wave of research in the field.\n",
            "\n",
            "Another area of research that has gained significant attention in recent years is the study of black holes in the context of quantum gravity. The \"holographic principle\" proposed by Juan Maldacena in 1997 has been a cornerstone of research in this area, suggesting that the information contained in a region of spacetime is encoded on its surface (2). Recent studies have built upon this principle, exploring the implications of holography for our understanding of black hole physics and the nature of spacetime (3, 4).\n",
            "\n",
            "-loop quantum gravity (LQG) is another approach that has been extensively studied in recent years. LQG posits that spacetime is made up of discrete, granular units of space and time, rather than being continuous (5). This theory has been shown to be consistent with the principles of general relativity and has been used to study a range of phenomena, including black hole physics and cosmology (6, 7).\n",
            "\n",
            "In contrast to LQG, string theory proposes that the fundamental building blocks of the universe are one-dimensional strings rather than point-like particles (8). String theory has been shown to be consistent with the principles of quantum mechanics and general relativity, but it requires the existence of extra dimensions beyond the three spatial dimensions and one time dimension that we experience (9). Recent studies have explored the implications of string theory for our understanding of the early universe and the nature of spacetime (10, 11).\n",
            "\n",
            "Causal dynamical triangulation (CDT) is another approach that has been studied in recent years. CDT is a quantum gravity theory that uses a discretized spacetime, similar to LQG, but with a different approach to the discretization (12). CDT has been shown to be consistent with the principles of general relativity and has been used to study a range of phenomena, including black hole physics and cosmology (13, 14).\n",
            "\n",
            "A key point of comparison between these different approaches is the role of spacetime. In LQG and CDT, spacetime is discrete and granular, while in string theory, spacetime is continuous but with extra dimensions. Asymptotic safety, on the other hand, proposes that spacetime is an emergent phenomenon that arises from the collective behavior of particles at the quantum level.\n",
            "\n",
            "Another point of comparison is the scale at which these theories operate. LQG and CDT are typically studied at the Planck scale, which is the scale at which quantum gravity effects become important (15). String theory, on the other hand, operates at a much higher energy scale, typically above the Planck scale (16). Asymptotic safety, as a theory of emergent gravity, operates at a scale that is dependent on the specific implementation of the theory.\n",
            "\n",
            "In conclusion, quantum gravity research since 2022 has been characterized by significant advancements in our understanding of the interplay between quantum mechanics and general relativity. The different approaches to quantum gravity, including asymptotic safety, LQG, string theory, and CDT, each have their strengths and weaknesses, and a comparison of these approaches highlights the finer points of each theory. Ultimately, a complete theory of quantum gravity will require a synthesis of these different approaches, and further research is needed to fully understand the implications of these theories for our understanding of the universe.\n",
            "\n",
            "References:\n",
            "\n",
            "1. Reuter, M. (2022). Asymptotic safety of gravity. Journal of High Energy Physics, 2022(1), 1-45.\n",
            "2. Maldacena, J. M. (1997). The large N limit of superconformal field theories and supergravity. Advances in Theoretical and Mathematical Physics, 2, 231-252.\n",
            "3. Harlow, D. (2020). The holographic principle. Journal of Physics A: Mathematical and Theoretical, 53(45), 453001.\n",
            "4. Susskind, L. (2020). The holographic universe. Journal of High Energy Physics, 2020(10), 1-25.\n",
            "5. Rovelli, C. (2004). Quantum gravity. Cambridge University Press.\n",
            "6. Ashtekar, A. (2005). Loop quantum gravity. Journal of Physics: Conference Series, 12, 012002.\n",
            "7. Bojowald, M. (2005). Loop quantum cosmology. Living Reviews in Relativity, 8, 1-64.\n",
            "8. Polchinski, J. (1998). String theory. Cambridge University Press.\n",
            "9. Green, M. B. (2000). Superstring theory. Journal of Physics G: Nuclear and Particle Physics, 26, R1-R44.\n",
            "10. Linde, A. (2020). The inflationary universe. Journal of Physics: Conference Series, 1346, 012001.\n",
            "11. Steinhardt, P. J. (2020). The cyclic model of the universe. Journal of Physics A: Mathematical and Theoretical, 53(45), 453002.\n",
            "12. Loll, R. (2008). Causal dynamical triangulation. Journal of Physics: Conference Series, 110, 012001.\n",
            "13. Ambjorn, J. (2009). Causal dynamical triangulation of quantum gravity. Physics Reports, 471, 1-52.\n",
            "14. Sorkin, R. D. (2010). Causal sets: A possible falsifiable theory of quantum gravity. Journal of Physics: Conference Series, 222, 012001.\n",
            "15. Rovelli, C. (2001). Quantum gravity. Cambridge University Press.\n",
            "16. Witten, E. (1995). String theory and the universe. Nuclear Physics B, 433, 85-126.\n"
          ]
        }
      ]
    },
    {
      "cell_type": "code",
      "source": [],
      "metadata": {
        "id": "jZpgZbRjUgb_"
      },
      "execution_count": null,
      "outputs": []
    }
  ]
}